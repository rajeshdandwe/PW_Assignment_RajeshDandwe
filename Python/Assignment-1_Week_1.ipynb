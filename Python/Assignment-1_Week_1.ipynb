{
 "cells": [
  {
   "cell_type": "markdown",
   "id": "f286745a",
   "metadata": {},
   "source": [
    "Q1. Create one variable containing following type of data:"
   ]
  },
  {
   "cell_type": "code",
   "execution_count": 1,
   "id": "30914623",
   "metadata": {},
   "outputs": [],
   "source": [
    "#(i) string\n",
    "a=\"Tajmahal\"\n",
    "#(ii) list\n",
    "b=[12,\"Hello\",10.2,5+5j,True]\n",
    "#(iii) float\n",
    "c=512.23\n",
    "#(iv) tuple\n",
    "d=(\"Rajesh\",\"Pen\",\"Ball\")"
   ]
  },
  {
   "cell_type": "markdown",
   "id": "0f2ddfaf",
   "metadata": {},
   "source": [
    "Q2. Given are some following variables containing data:"
   ]
  },
  {
   "cell_type": "markdown",
   "id": "62c2498d",
   "metadata": {},
   "source": [
    "(i) var1 = ‘ ‘\n",
    "= String\n",
    "(ii) var2 = ‘[ DS , ML , Python]’\n",
    "=String\n",
    "(iii) var3 = [ ‘DS’ , ’ML’ , ‘Python’ ]\n",
    "=List\n",
    "(iv) var4 = 1.\n",
    "=Float"
   ]
  },
  {
   "cell_type": "markdown",
   "id": "021dbd25",
   "metadata": {},
   "source": [
    "Q3. Explain the use of the following operators using an example:"
   ]
  },
  {
   "cell_type": "code",
   "execution_count": 2,
   "id": "5517e324",
   "metadata": {},
   "outputs": [
    {
     "data": {
      "text/plain": [
       "'\\n(i) /\\n=It is a divide operator use manipulate individual data items and return a result\\n(ii) %\\n= It is Modulus to manipulate individual data items and return a result and gives a remender\\n(iii) //\\n= It is an integer division operator it gives a division floor.\\n(iv) **\\n=It is power operator its use gives a raise to power to perticular variable .\\n***\\n'"
      ]
     },
     "execution_count": 2,
     "metadata": {},
     "output_type": "execute_result"
    }
   ],
   "source": [
    "\"\"\"\n",
    "(i) /\n",
    "=It is a divide operator use manipulate individual data items and return a result\n",
    "(ii) %\n",
    "= It is Modulus to manipulate individual data items and return a result and gives a remender\n",
    "(iii) //\n",
    "= It is an integer division operator it gives a division floor.\n",
    "(iv) **\n",
    "=It is power operator its use gives a raise to power to perticular variable .\n",
    "***\n",
    "\"\"\""
   ]
  },
  {
   "cell_type": "markdown",
   "id": "d0b1be67",
   "metadata": {},
   "source": [
    "Q4. Create a list of length 10 of your choice containing multiple types of data. Using for loop print the\n",
    "element and its data type."
   ]
  },
  {
   "cell_type": "code",
   "execution_count": 3,
   "id": "154477f3",
   "metadata": {},
   "outputs": [
    {
     "name": "stdout",
     "output_type": "stream",
     "text": [
      "10 -- <class 'int'>\n",
      "Rajesh -- <class 'str'>\n",
      "True -- <class 'bool'>\n",
      "52.32 -- <class 'float'>\n",
      "(5+6j) -- <class 'complex'>\n",
      "Apple -- <class 'str'>\n",
      "65 -- <class 'int'>\n",
      "20.36 -- <class 'float'>\n",
      "84 -- <class 'int'>\n",
      "96 -- <class 'int'>\n"
     ]
    }
   ],
   "source": [
    "a=[10,\"Rajesh\",True,52.32,5+6j,\"Apple\",65,20.36,84,96]\n",
    "for i in a:\n",
    "    print(i,\"--\",type(i))"
   ]
  },
  {
   "cell_type": "markdown",
   "id": "ffcea879",
   "metadata": {},
   "source": [
    "Q5. Using a while loop, verify if the number A is purely divisible by number B and if so then how many\n",
    "times it can be divisible."
   ]
  },
  {
   "cell_type": "code",
   "execution_count": 38,
   "id": "5a73fae0",
   "metadata": {},
   "outputs": [
    {
     "name": "stdout",
     "output_type": "stream",
     "text": [
      "Enter num:9\n",
      "It is Divided By 1\n",
      "Not divide by  2\n"
     ]
    }
   ],
   "source": [
    "a=int(input(\"Enter num:\"))\n",
    "i=1\n",
    "while a%i==0:\n",
    "    print(\"It is Divided By\",i)\n",
    "    i=i+1\n",
    "    if(i==10):\n",
    "        Break\n",
    "else:\n",
    "    print(\"Not divide by \",i)\n"
   ]
  },
  {
   "cell_type": "markdown",
   "id": "8f2a9302",
   "metadata": {},
   "source": [
    "Q6. Create a list containing 25 int type data. Using for loop and if-else condition print if the element is\n",
    "divisible by 3 or not."
   ]
  },
  {
   "cell_type": "code",
   "execution_count": 42,
   "id": "160e6c14",
   "metadata": {},
   "outputs": [
    {
     "name": "stdout",
     "output_type": "stream",
     "text": [
      "12 -- Divisible By 3\n",
      "15 -- Divisible By 3\n",
      "30 -- Divisible By 3\n",
      "85 -- Not Divisible By 3\n",
      "45 -- Divisible By 3\n",
      "96 -- Divisible By 3\n",
      "74 -- Not Divisible By 3\n",
      "54 -- Divisible By 3\n",
      "12 -- Divisible By 3\n",
      "32 -- Not Divisible By 3\n",
      "78 -- Divisible By 3\n",
      "96 -- Divisible By 3\n",
      "45 -- Divisible By 3\n",
      "12 -- Divisible By 3\n",
      "325 -- Not Divisible By 3\n",
      "48 -- Divisible By 3\n",
      "56 -- Not Divisible By 3\n",
      "45 -- Divisible By 3\n",
      "74 -- Not Divisible By 3\n",
      "12 -- Divisible By 3\n",
      "14 -- Not Divisible By 3\n",
      "52 -- Not Divisible By 3\n",
      "63 -- Divisible By 3\n",
      "45 -- Divisible By 3\n",
      "74 -- Not Divisible By 3\n"
     ]
    }
   ],
   "source": [
    "s=[12,15,30,85,45,96,74,54,12,32,78,96,45,12,325,48,56,45,74,12,14,52,63,45,74]\n",
    "for i in s:\n",
    "    if(i%3==0):\n",
    "        print(i,\"--\",\"Divisible By 3\")\n",
    "    else:\n",
    "        print(i,\"--\",\"Not Divisible By 3\")"
   ]
  },
  {
   "cell_type": "markdown",
   "id": "48d2cf42",
   "metadata": {},
   "source": [
    "Q7.What do you understand about mutable and immutable data types? Give examples for both showing\n",
    "this property."
   ]
  },
  {
   "cell_type": "markdown",
   "id": "77702a0d",
   "metadata": {},
   "source": [
    "1.Mutable object are those that allow you to change their valueor data in place without affecting the object identity\n",
    "2.Immutable data types are those ,whose value cannot be modified once they are created."
   ]
  },
  {
   "cell_type": "code",
   "execution_count": 46,
   "id": "2842ee15",
   "metadata": {},
   "outputs": [
    {
     "data": {
      "text/plain": [
       "[20, 32, 15, 100]"
      ]
     },
     "execution_count": 46,
     "metadata": {},
     "output_type": "execute_result"
    }
   ],
   "source": [
    "l=[20,32,15,65]\n",
    "l[3]\n",
    "l[3]=100\n",
    "l\n",
    "#It is an example of Mutable"
   ]
  },
  {
   "cell_type": "code",
   "execution_count": 48,
   "id": "44a39262",
   "metadata": {},
   "outputs": [
    {
     "data": {
      "text/plain": [
       "'s'"
      ]
     },
     "execution_count": 48,
     "metadata": {},
     "output_type": "execute_result"
    }
   ],
   "source": [
    "p=\"Rajesh\"\n",
    "p[4]"
   ]
  },
  {
   "cell_type": "code",
   "execution_count": 50,
   "id": "fa297247",
   "metadata": {},
   "outputs": [
    {
     "ename": "TypeError",
     "evalue": "'str' object does not support item assignment",
     "output_type": "error",
     "traceback": [
      "\u001b[1;31m---------------------------------------------------------------------------\u001b[0m",
      "\u001b[1;31mTypeError\u001b[0m                                 Traceback (most recent call last)",
      "Cell \u001b[1;32mIn[50], line 1\u001b[0m\n\u001b[1;32m----> 1\u001b[0m p[\u001b[38;5;241m4\u001b[39m]\u001b[38;5;241m=\u001b[39m\u001b[38;5;124m\"\u001b[39m\u001b[38;5;124mj\u001b[39m\u001b[38;5;124m\"\u001b[39m\n",
      "\u001b[1;31mTypeError\u001b[0m: 'str' object does not support item assignment"
     ]
    }
   ],
   "source": [
    "p[4]=\"j\""
   ]
  },
  {
   "cell_type": "code",
   "execution_count": null,
   "id": "98a06c7b",
   "metadata": {},
   "outputs": [],
   "source": []
  }
 ],
 "metadata": {
  "kernelspec": {
   "display_name": "Python 3 (ipykernel)",
   "language": "python",
   "name": "python3"
  },
  "language_info": {
   "codemirror_mode": {
    "name": "ipython",
    "version": 3
   },
   "file_extension": ".py",
   "mimetype": "text/x-python",
   "name": "python",
   "nbconvert_exporter": "python",
   "pygments_lexer": "ipython3",
   "version": "3.11.4"
  }
 },
 "nbformat": 4,
 "nbformat_minor": 5
}
